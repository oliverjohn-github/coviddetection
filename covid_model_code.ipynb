{
 "cells": [
  {
   "cell_type": "code",
   "execution_count": 1,
   "metadata": {},
   "outputs": [
    {
     "name": "stderr",
     "output_type": "stream",
     "text": [
      "Using TensorFlow backend.\n",
      "C:\\Users\\Admin\\Anaconda3\\lib\\site-packages\\tensorflow\\python\\framework\\dtypes.py:516: FutureWarning: Passing (type, 1) or '1type' as a synonym of type is deprecated; in a future version of numpy, it will be understood as (type, (1,)) / '(1,)type'.\n",
      "  _np_qint8 = np.dtype([(\"qint8\", np.int8, 1)])\n",
      "C:\\Users\\Admin\\Anaconda3\\lib\\site-packages\\tensorflow\\python\\framework\\dtypes.py:517: FutureWarning: Passing (type, 1) or '1type' as a synonym of type is deprecated; in a future version of numpy, it will be understood as (type, (1,)) / '(1,)type'.\n",
      "  _np_quint8 = np.dtype([(\"quint8\", np.uint8, 1)])\n",
      "C:\\Users\\Admin\\Anaconda3\\lib\\site-packages\\tensorflow\\python\\framework\\dtypes.py:518: FutureWarning: Passing (type, 1) or '1type' as a synonym of type is deprecated; in a future version of numpy, it will be understood as (type, (1,)) / '(1,)type'.\n",
      "  _np_qint16 = np.dtype([(\"qint16\", np.int16, 1)])\n",
      "C:\\Users\\Admin\\Anaconda3\\lib\\site-packages\\tensorflow\\python\\framework\\dtypes.py:519: FutureWarning: Passing (type, 1) or '1type' as a synonym of type is deprecated; in a future version of numpy, it will be understood as (type, (1,)) / '(1,)type'.\n",
      "  _np_quint16 = np.dtype([(\"quint16\", np.uint16, 1)])\n",
      "C:\\Users\\Admin\\Anaconda3\\lib\\site-packages\\tensorflow\\python\\framework\\dtypes.py:520: FutureWarning: Passing (type, 1) or '1type' as a synonym of type is deprecated; in a future version of numpy, it will be understood as (type, (1,)) / '(1,)type'.\n",
      "  _np_qint32 = np.dtype([(\"qint32\", np.int32, 1)])\n",
      "C:\\Users\\Admin\\Anaconda3\\lib\\site-packages\\tensorflow\\python\\framework\\dtypes.py:525: FutureWarning: Passing (type, 1) or '1type' as a synonym of type is deprecated; in a future version of numpy, it will be understood as (type, (1,)) / '(1,)type'.\n",
      "  np_resource = np.dtype([(\"resource\", np.ubyte, 1)])\n"
     ]
    }
   ],
   "source": [
    "from keras.models import Sequential\n",
    "from keras.layers import Dense\n",
    "from keras.layers import Convolution2D\n",
    "from keras.layers import MaxPooling2D\n",
    "from keras.layers import Flatten"
   ]
  },
  {
   "cell_type": "code",
   "execution_count": 2,
   "metadata": {},
   "outputs": [],
   "source": [
    "model = Sequential()"
   ]
  },
  {
   "cell_type": "code",
   "execution_count": 3,
   "metadata": {},
   "outputs": [],
   "source": [
    "model.add(Convolution2D(32,(3,3),input_shape = (64,64,3),activation = 'relu'))"
   ]
  },
  {
   "cell_type": "code",
   "execution_count": 4,
   "metadata": {},
   "outputs": [
    {
     "name": "stdout",
     "output_type": "stream",
     "text": [
      "WARNING:tensorflow:From C:\\Users\\Admin\\Anaconda3\\lib\\site-packages\\keras\\backend\\tensorflow_backend.py:4070: The name tf.nn.max_pool is deprecated. Please use tf.nn.max_pool2d instead.\n",
      "\n"
     ]
    }
   ],
   "source": [
    "model.add(MaxPooling2D(pool_size = (2,2)))"
   ]
  },
  {
   "cell_type": "code",
   "execution_count": 5,
   "metadata": {},
   "outputs": [],
   "source": [
    "model.add(Flatten())"
   ]
  },
  {
   "cell_type": "code",
   "execution_count": 6,
   "metadata": {},
   "outputs": [
    {
     "name": "stderr",
     "output_type": "stream",
     "text": [
      "C:\\Users\\Admin\\Anaconda3\\lib\\site-packages\\ipykernel_launcher.py:1: UserWarning: Update your `Dense` call to the Keras 2 API: `Dense(activation=\"relu\", units=600, kernel_initializer=\"uniform\")`\n",
      "  \"\"\"Entry point for launching an IPython kernel.\n"
     ]
    }
   ],
   "source": [
    "model.add(Dense(output_dim = 600 ,init = 'uniform',activation = 'relu'))"
   ]
  },
  {
   "cell_type": "code",
   "execution_count": 7,
   "metadata": {},
   "outputs": [
    {
     "name": "stderr",
     "output_type": "stream",
     "text": [
      "C:\\Users\\Admin\\Anaconda3\\lib\\site-packages\\ipykernel_launcher.py:1: UserWarning: Update your `Dense` call to the Keras 2 API: `Dense(activation=\"softmax\", units=3)`\n",
      "  \"\"\"Entry point for launching an IPython kernel.\n"
     ]
    }
   ],
   "source": [
    "model.add(Dense(output_dim = 3,activation = 'softmax'))"
   ]
  },
  {
   "cell_type": "code",
   "execution_count": 8,
   "metadata": {},
   "outputs": [],
   "source": [
    "from keras.preprocessing.image import ImageDataGenerator\n",
    "train_datagen = ImageDataGenerator(rescale = 1./255,shear_range = 0.2,zoom_range = 0.2,horizontal_flip = True)\n",
    "test_datagen =ImageDataGenerator(rescale = 1)\n"
   ]
  },
  {
   "cell_type": "code",
   "execution_count": 9,
   "metadata": {},
   "outputs": [
    {
     "name": "stdout",
     "output_type": "stream",
     "text": [
      "Found 5144 images belonging to 3 classes.\n",
      "Found 1288 images belonging to 3 classes.\n"
     ]
    }
   ],
   "source": [
    "x_train = train_datagen.flow_from_directory(r'G:\\vnr_project\\covid_project\\train',target_size = (64,64),batch_size = 32, class_mode = 'categorical')\n",
    "x_test =  test_datagen.flow_from_directory(r'G:\\vnr_project\\covid_project\\test',target_size = (64,64),batch_size = 32, class_mode = 'categorical')"
   ]
  },
  {
   "cell_type": "code",
   "execution_count": 10,
   "metadata": {},
   "outputs": [
    {
     "name": "stdout",
     "output_type": "stream",
     "text": [
      "{'COVID19': 0, 'NORMAL': 1, 'PNEUMONIA': 2}\n"
     ]
    }
   ],
   "source": [
    "print(x_train.class_indices)"
   ]
  },
  {
   "cell_type": "code",
   "execution_count": 11,
   "metadata": {},
   "outputs": [],
   "source": [
    "model.compile(optimizer = 'adam',loss = 'categorical_crossentropy',metrics = ['accuracy'])"
   ]
  },
  {
   "cell_type": "code",
   "execution_count": 12,
   "metadata": {},
   "outputs": [
    {
     "name": "stdout",
     "output_type": "stream",
     "text": [
      "WARNING:tensorflow:From C:\\Users\\Admin\\Anaconda3\\lib\\site-packages\\keras\\backend\\tensorflow_backend.py:422: The name tf.global_variables is deprecated. Please use tf.compat.v1.global_variables instead.\n",
      "\n",
      "Epoch 1/30\n",
      "200/200 [==============================] - 614s 3s/step - loss: 0.7525 - accuracy: 0.8178 - val_loss: 16.7008 - val_accuracy: 0.8510\n",
      "Epoch 2/30\n",
      "200/200 [==============================] - 348s 2s/step - loss: 0.3004 - accuracy: 0.8866 - val_loss: 75.1558 - val_accuracy: 0.8750\n",
      "Epoch 3/30\n",
      "200/200 [==============================] - 364s 2s/step - loss: 0.2788 - accuracy: 0.8894 - val_loss: 79.4891 - val_accuracy: 0.8600\n",
      "Epoch 4/30\n",
      "200/200 [==============================] - 341s 2s/step - loss: 0.2251 - accuracy: 0.9176 - val_loss: 97.3129 - val_accuracy: 0.9052\n",
      "Epoch 5/30\n",
      "200/200 [==============================] - 361s 2s/step - loss: 0.2344 - accuracy: 0.9130 - val_loss: 50.4270 - val_accuracy: 0.8964\n",
      "Epoch 6/30\n",
      "200/200 [==============================] - 345s 2s/step - loss: 0.2055 - accuracy: 0.9202 - val_loss: 7.3586 - val_accuracy: 0.8964\n",
      "Epoch 7/30\n",
      "200/200 [==============================] - 356s 2s/step - loss: 0.2049 - accuracy: 0.9272 - val_loss: 2.0245 - val_accuracy: 0.9017\n",
      "Epoch 8/30\n",
      "200/200 [==============================] - 352s 2s/step - loss: 0.2112 - accuracy: 0.9226 - val_loss: 134.6167 - val_accuracy: 0.8771\n",
      "Epoch 9/30\n",
      "200/200 [==============================] - 360s 2s/step - loss: 0.2016 - accuracy: 0.9230 - val_loss: 60.1751 - val_accuracy: 0.9038\n",
      "Epoch 10/30\n",
      "200/200 [==============================] - 353s 2s/step - loss: 0.1997 - accuracy: 0.9273 - val_loss: 42.4721 - val_accuracy: 0.9006\n",
      "Epoch 11/30\n",
      "200/200 [==============================] - 336s 2s/step - loss: 0.2015 - accuracy: 0.9268 - val_loss: 222.7975 - val_accuracy: 0.8771\n",
      "Epoch 12/30\n",
      "200/200 [==============================] - 345s 2s/step - loss: 0.1863 - accuracy: 0.9332 - val_loss: 71.0437 - val_accuracy: 0.8802\n",
      "Epoch 13/30\n",
      "200/200 [==============================] - 327s 2s/step - loss: 0.1755 - accuracy: 0.9363 - val_loss: 59.2190 - val_accuracy: 0.8462\n",
      "Epoch 14/30\n",
      "200/200 [==============================] - 331s 2s/step - loss: 0.1633 - accuracy: 0.9391 - val_loss: 130.7141 - val_accuracy: 0.8889\n",
      "Epoch 15/30\n",
      "200/200 [==============================] - 336s 2s/step - loss: 0.1648 - accuracy: 0.9434 - val_loss: 64.7523 - val_accuracy: 0.8781\n",
      "Epoch 16/30\n",
      "200/200 [==============================] - 363s 2s/step - loss: 0.1461 - accuracy: 0.9460 - val_loss: 3.9854 - val_accuracy: 0.8729\n",
      "Epoch 17/30\n",
      "200/200 [==============================] - 344s 2s/step - loss: 0.1524 - accuracy: 0.9481 - val_loss: 189.5277 - val_accuracy: 0.8526\n",
      "Epoch 18/30\n",
      "200/200 [==============================] - 329s 2s/step - loss: 0.1414 - accuracy: 0.9474 - val_loss: 101.4812 - val_accuracy: 0.8803\n",
      "Epoch 19/30\n",
      "200/200 [==============================] - 342s 2s/step - loss: 0.1500 - accuracy: 0.9448 - val_loss: 56.9744 - val_accuracy: 0.8156\n",
      "Epoch 20/30\n",
      "200/200 [==============================] - 344s 2s/step - loss: 0.1470 - accuracy: 0.9470 - val_loss: 44.4793 - val_accuracy: 0.8034\n",
      "Epoch 21/30\n",
      "200/200 [==============================] - 343s 2s/step - loss: 0.1324 - accuracy: 0.9538 - val_loss: 129.0845 - val_accuracy: 0.8397\n",
      "Epoch 22/30\n",
      "200/200 [==============================] - 335s 2s/step - loss: 0.1297 - accuracy: 0.9519 - val_loss: 70.6953 - val_accuracy: 0.8857\n",
      "Epoch 23/30\n",
      "200/200 [==============================] - 335s 2s/step - loss: 0.1287 - accuracy: 0.9520 - val_loss: 174.5811 - val_accuracy: 0.8333\n",
      "Epoch 24/30\n",
      "200/200 [==============================] - 339s 2s/step - loss: 0.1267 - accuracy: 0.9524 - val_loss: 68.2858 - val_accuracy: 0.8632\n",
      "Epoch 25/30\n",
      "200/200 [==============================] - 336s 2s/step - loss: 0.1195 - accuracy: 0.9553 - val_loss: 184.2748 - val_accuracy: 0.8718\n",
      "Epoch 26/30\n",
      "200/200 [==============================] - 330s 2s/step - loss: 0.1241 - accuracy: 0.9537 - val_loss: 171.0339 - val_accuracy: 0.8259\n",
      "Epoch 27/30\n",
      "200/200 [==============================] - 330s 2s/step - loss: 0.1195 - accuracy: 0.9565 - val_loss: 76.1958 - val_accuracy: 0.8948\n",
      "Epoch 28/30\n",
      "200/200 [==============================] - 341s 2s/step - loss: 0.1195 - accuracy: 0.9568 - val_loss: 57.4230 - val_accuracy: 0.7436\n",
      "Epoch 29/30\n",
      "200/200 [==============================] - 341s 2s/step - loss: 0.1166 - accuracy: 0.9571 - val_loss: 121.7401 - val_accuracy: 0.8643\n",
      "Epoch 30/30\n",
      "200/200 [==============================] - 336s 2s/step - loss: 0.1094 - accuracy: 0.9595 - val_loss: 140.0666 - val_accuracy: 0.8510\n"
     ]
    },
    {
     "data": {
      "text/plain": [
       "<keras.callbacks.callbacks.History at 0x2a17d529d08>"
      ]
     },
     "execution_count": 12,
     "metadata": {},
     "output_type": "execute_result"
    }
   ],
   "source": [
    "model.fit_generator(x_train, steps_per_epoch = 200,epochs=30,validation_data = x_test,validation_steps = 30)"
   ]
  },
  {
   "cell_type": "code",
   "execution_count": 13,
   "metadata": {},
   "outputs": [],
   "source": [
    "model.save(\"covid.h5\")"
   ]
  },
  {
   "cell_type": "code",
   "execution_count": null,
   "metadata": {},
   "outputs": [],
   "source": []
  },
  {
   "cell_type": "code",
   "execution_count": null,
   "metadata": {},
   "outputs": [],
   "source": []
  }
 ],
 "metadata": {
  "kernelspec": {
   "display_name": "Python 3",
   "language": "python",
   "name": "python3"
  },
  "language_info": {
   "codemirror_mode": {
    "name": "ipython",
    "version": 3
   },
   "file_extension": ".py",
   "mimetype": "text/x-python",
   "name": "python",
   "nbconvert_exporter": "python",
   "pygments_lexer": "ipython3",
   "version": "3.7.7"
  }
 },
 "nbformat": 4,
 "nbformat_minor": 4
}
